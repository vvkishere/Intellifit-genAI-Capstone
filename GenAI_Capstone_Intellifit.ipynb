{
  "nbformat": 4,
  "nbformat_minor": 0,
  "metadata": {
    "colab": {
      "provenance": [],
      "include_colab_link": true
    },
    "kernelspec": {
      "name": "python3",
      "display_name": "Python 3"
    },
    "language_info": {
      "name": "python"
    }
  },
  "cells": [
    {
      "cell_type": "markdown",
      "metadata": {
        "id": "view-in-github",
        "colab_type": "text"
      },
      "source": [
        "<a href=\"https://colab.research.google.com/github/vvkishere/Intellifit-genAI-Capstone/blob/main/GenAI_Capstone_Intellifit.ipynb\" target=\"_parent\"><img src=\"https://colab.research.google.com/assets/colab-badge.svg\" alt=\"Open In Colab\"/></a>"
      ]
    },
    {
      "cell_type": "markdown",
      "source": [
        "# Description\n",
        "\n",
        "Intellifit is an agentic workflow to enhance and aguement users who want to get to their fitness goals but aren't able to find high quality trainer teams to help them with their fitness journey.\n",
        "\n",
        "The system will be able to ingest all kinds of user data including medical health records, user current emotional and physical state, user goals and progress towards the goals to give them a customized, regular feedback on their journey and keeping them on track.\n",
        "\n",
        "This system is built as a prototype for the \"Gen AI Intensive Course Capstone 2025Q1\" for Kaggle and will incorporate the following GenAI Capabilities:\n",
        "1. Controlled Generation\n",
        "2. Few shot prompting\n",
        "3. Document understanding\n",
        "4. Agents\n",
        "5. Function Calling\n",
        "6. Context Caching\n",
        "\n",
        "While the larger system is complex and will need to comprehensively cover several areas, for the purpose of this capstone project we will build and incorporate a limited set of workflows to demonstrate the potential of this system.\n",
        "Currently the system will generate a set of questions for the user when onboarding them onto the system, a Nutritionist Agent will recommend daily meals and a trainer agent will use the data to create a custom plan on a daily basis."
      ],
      "metadata": {
        "id": "BIxlJwUQrtUF"
      }
    },
    {
      "cell_type": "markdown",
      "source": [
        "# System Design\n",
        "\n",
        "The system will consist of mainly the following:\n",
        "\n",
        "##Agents\n",
        "1. Onboarding Agent with questions about the user's current data statistics, health issues to deal with, allergies and their goals for the training.\n",
        "2. A nutritionist agent to generate a meal-plan to help the user attain their goals\n",
        "3. A trainer agent that will review their goals and health issues to create a custom daily training plan for the user\n",
        "4. A notes taking agent that will record the user's current state and pass it along to the trainer agent and the nutritionist agent.\n",
        "\n",
        "##System Components\n",
        "\n",
        "\n",
        "1.   LLM Backend (Gemini for now but can be expanded to other LLMs if needed)\n",
        "2.   Individual agents\n",
        "3.   Orchestrator Workflow\n",
        "4.   File management for data persistence\n",
        "5.   \n",
        "\n",
        "\n",
        "## Agent Design\n",
        "\n",
        "The Agent has the following components:\n",
        "1. The Agent Role\n",
        "2. The Agent's Task\n",
        "3. The Agent's Personality\n",
        "4. The Agent's Tools\n",
        "5. The Agent's LLM\n",
        "6. The Agent's Memory\n",
        "\n",
        "The agent picks up data from a configuration file and implements the tasks required.\n",
        "\n",
        "\n",
        "\n",
        "\n"
      ],
      "metadata": {
        "id": "2OCCOGl31UHD"
      }
    },
    {
      "cell_type": "code",
      "source": [
        "#Install dependencies\n",
        "%%capture\n",
        "!pip install langchain-google-genai langgraph langchain-community langgraph-checkpoint-sqlite"
      ],
      "metadata": {
        "id": "BKKeTTfe0jRX"
      },
      "execution_count": null,
      "outputs": []
    },
    {
      "cell_type": "code",
      "source": [],
      "metadata": {
        "id": "1rBN1mRyHJhw"
      },
      "execution_count": null,
      "outputs": []
    },
    {
      "cell_type": "code",
      "execution_count": null,
      "metadata": {
        "id": "y0trOOIYrejz"
      },
      "outputs": [],
      "source": [
        "#Importing required libraries\n",
        "from google.colab import userdata\n",
        "from langchain_google_genai import ChatGoogleGenerativeAI\n",
        "#Importing required libraries\n",
        "from google.colab import userdata\n",
        "from langchain_google_genai import ChatGoogleGenerativeAI\n",
        "from langgraph.checkpoint.memory import MemorySaver\n",
        "from langgraph.graph import START, MessagesState, StateGraph\n",
        "from langgraph.prebuilt import * # added * to import all from the module\n",
        "import logging\n",
        "import os\n",
        "import json\n",
        "import json"
      ]
    },
    {
      "cell_type": "code",
      "source": [
        "#Configuration Parameters\n",
        "agent_config_path = '/content/agent_config'\n",
        "Gemini_api = userdata.get('GOOGLE_API_KEY')\n",
        "llm_model_name = 'gemini-2.0-flash'\n",
        "agent_memory_path = '/content/agent_memory'\n",
        "\n",
        "##Initializing logging\n",
        "logger = logging.getLogger()\n",
        "logger.setLevel(logging.DEBUG)"
      ],
      "metadata": {
        "id": "5TYVTG8BKjdI",
        "colab": {
          "base_uri": "https://localhost:8080/",
          "height": 341
        },
        "outputId": "bf5f0d1b-5763-4942-8200-9d1f65bd2455"
      },
      "execution_count": null,
      "outputs": [
        {
          "output_type": "error",
          "ename": "SecretNotFoundError",
          "evalue": "Secret GOOGLE_API_KEY does not exist.",
          "traceback": [
            "\u001b[0;31m---------------------------------------------------------------------------\u001b[0m",
            "\u001b[0;31mSecretNotFoundError\u001b[0m                       Traceback (most recent call last)",
            "\u001b[0;32m<ipython-input-4-8059adc5d183>\u001b[0m in \u001b[0;36m<cell line: 0>\u001b[0;34m()\u001b[0m\n\u001b[1;32m      1\u001b[0m \u001b[0;31m#Configuration Parameters\u001b[0m\u001b[0;34m\u001b[0m\u001b[0;34m\u001b[0m\u001b[0m\n\u001b[1;32m      2\u001b[0m \u001b[0magent_config_path\u001b[0m \u001b[0;34m=\u001b[0m \u001b[0;34m'/content/agent_config'\u001b[0m\u001b[0;34m\u001b[0m\u001b[0;34m\u001b[0m\u001b[0m\n\u001b[0;32m----> 3\u001b[0;31m \u001b[0mGemini_api\u001b[0m \u001b[0;34m=\u001b[0m \u001b[0muserdata\u001b[0m\u001b[0;34m.\u001b[0m\u001b[0mget\u001b[0m\u001b[0;34m(\u001b[0m\u001b[0;34m'GOOGLE_API_KEY'\u001b[0m\u001b[0;34m)\u001b[0m\u001b[0;34m\u001b[0m\u001b[0;34m\u001b[0m\u001b[0m\n\u001b[0m\u001b[1;32m      4\u001b[0m \u001b[0mllm_model_name\u001b[0m \u001b[0;34m=\u001b[0m \u001b[0;34m'gemini-2.0-flash'\u001b[0m\u001b[0;34m\u001b[0m\u001b[0;34m\u001b[0m\u001b[0m\n\u001b[1;32m      5\u001b[0m \u001b[0magent_memory_path\u001b[0m \u001b[0;34m=\u001b[0m \u001b[0;34m'/content/agent_memory'\u001b[0m\u001b[0;34m\u001b[0m\u001b[0;34m\u001b[0m\u001b[0m\n",
            "\u001b[0;32m/usr/local/lib/python3.11/dist-packages/google/colab/userdata.py\u001b[0m in \u001b[0;36mget\u001b[0;34m(key)\u001b[0m\n\u001b[1;32m     66\u001b[0m     \u001b[0;32mraise\u001b[0m \u001b[0mTimeoutException\u001b[0m\u001b[0;34m(\u001b[0m\u001b[0mkey\u001b[0m\u001b[0;34m)\u001b[0m\u001b[0;34m\u001b[0m\u001b[0;34m\u001b[0m\u001b[0m\n\u001b[1;32m     67\u001b[0m   \u001b[0;32mif\u001b[0m \u001b[0;32mnot\u001b[0m \u001b[0mresp\u001b[0m\u001b[0;34m.\u001b[0m\u001b[0mget\u001b[0m\u001b[0;34m(\u001b[0m\u001b[0;34m'exists'\u001b[0m\u001b[0;34m,\u001b[0m \u001b[0;32mFalse\u001b[0m\u001b[0;34m)\u001b[0m\u001b[0;34m:\u001b[0m\u001b[0;34m\u001b[0m\u001b[0;34m\u001b[0m\u001b[0m\n\u001b[0;32m---> 68\u001b[0;31m     \u001b[0;32mraise\u001b[0m \u001b[0mSecretNotFoundError\u001b[0m\u001b[0;34m(\u001b[0m\u001b[0mkey\u001b[0m\u001b[0;34m)\u001b[0m\u001b[0;34m\u001b[0m\u001b[0;34m\u001b[0m\u001b[0m\n\u001b[0m\u001b[1;32m     69\u001b[0m   \u001b[0;32mif\u001b[0m \u001b[0;32mnot\u001b[0m \u001b[0mresp\u001b[0m\u001b[0;34m.\u001b[0m\u001b[0mget\u001b[0m\u001b[0;34m(\u001b[0m\u001b[0;34m'access'\u001b[0m\u001b[0;34m,\u001b[0m \u001b[0;32mFalse\u001b[0m\u001b[0;34m)\u001b[0m\u001b[0;34m:\u001b[0m\u001b[0;34m\u001b[0m\u001b[0;34m\u001b[0m\u001b[0m\n\u001b[1;32m     70\u001b[0m     \u001b[0;32mraise\u001b[0m \u001b[0mNotebookAccessError\u001b[0m\u001b[0;34m(\u001b[0m\u001b[0mkey\u001b[0m\u001b[0;34m)\u001b[0m\u001b[0;34m\u001b[0m\u001b[0;34m\u001b[0m\u001b[0m\n",
            "\u001b[0;31mSecretNotFoundError\u001b[0m: Secret GOOGLE_API_KEY does not exist."
          ]
        }
      ]
    },
    {
      "cell_type": "code",
      "source": [
        "#Testing API\n",
        "llm = ChatGoogleGenerativeAI(model=llm_model_name,api_key=Gemini_api)\n",
        "response = llm.invoke('Hello there whats your name?')\n",
        "response.content"
      ],
      "metadata": {
        "colab": {
          "base_uri": "https://localhost:8080/",
          "height": 36
        },
        "id": "78QuaXnN3-Bi",
        "outputId": "ca60513d-64d8-4624-b8b0-b12d927fb996"
      },
      "execution_count": null,
      "outputs": [
        {
          "output_type": "execute_result",
          "data": {
            "text/plain": [
              "\"I am a large language model, trained by Google. I don't have a name. You can just call me Bard.\""
            ],
            "application/vnd.google.colaboratory.intrinsic+json": {
              "type": "string"
            }
          },
          "metadata": {},
          "execution_count": 45
        }
      ]
    },
    {
      "cell_type": "markdown",
      "source": [
        "##Section: Agent Prompts & Configurations"
      ],
      "metadata": {
        "id": "9bi6G3fC6IF9"
      }
    },
    {
      "cell_type": "markdown",
      "source": [
        "### Trainer Agent"
      ],
      "metadata": {
        "id": "Q_BwiVoA6bfk"
      }
    },
    {
      "cell_type": "code",
      "source": [
        "trainer_agent_prompt = \"\"\"{\n",
        "  \"name\": \"FitBot\",\n",
        "  \"role\": \"You are a virtual gym training agent named 'FitBot', designed to guide and motivate users towards their fitness goals. You act as a personal trainer, nutrition advisor, and motivational coach, providing personalized workout plans, tracking progress, offering expert advice, and adapting routines based on user feedback and performance. You are a knowledgeable, supportive, and encouraging companion throughout the user's fitness journey. Your ultimate goal is to empower users to achieve sustainable fitness and health improvements.\",\n",
        "  \"tasks\": [\n",
        "    {\n",
        "      \"id\": \"create_workout_plan\",\n",
        "      \"description\": \"Create a personalized workout plan tailored to user goals (e.g., build muscle, lose weight, improve cardiovascular health), fitness level, experience, available equipment, and any physical limitations.  The plan should include a variety of exercises targeting different muscle groups, specifying sets, reps, rest periods, intensity levels, and progression strategies. Provide clear instructions with visual aids (if possible) and consider factors like workout frequency, duration, and recovery time. Ensure the plan is safe, effective, and enjoyable for the user. Return a json formatted plan and only the plan. e.g. '{\\\\\"Workout type\\\\\":\\\\\"barbell rows\\\\\", {\\\\\"number of reps\\\\\":\\\\\"8\\\\\", \\\\\"number of sets\\\\\": \\\\\"3\\\\\", \\\\\"rest time\\\\\":\\\\\"60 seconds\\\\\", \\\\\"Other Instructions\\\\\":\\\\\"Last set till fatigure\\\\\"}, \\\\\"Workout type\\\\\":\\\\\"body weight pull ups\\\\\", {\\\\\"number of reps\\\\\":\\\\\"8\\\\\", \\\\\"number of sets\\\\\": \\\\\"3\\\\\",\\\\\"rest time\\\\\":\\\\\"60 seconds\\\\\", \\\\\"Other Instructions\\\\\":\\\\\"If too easy in the first set, add some weights.\\\\\"}}'. Do not return any other superfluous text that isn't relevant to the plan itself. At the end of the workout plan also create user notes that they can follow.\"\n",
        "    },\n",
        "    {\n",
        "      \"id\": \"track_progress\",\n",
        "      \"description\": \"Monitor user's workout data, including exercises completed, weights used, sets and reps performed, rest times, perceived exertion, and any other relevant metrics. Analyze this data to assess progress towards goals, identify areas for improvement, and provide feedback to the user. Track changes in body composition, strength, endurance, and overall fitness level over time. Use this data to inform adjustments to future workout plans and ensure continuous progress.\"\n",
        "    },\n",
        "    {\n",
        "      \"id\": \"offer_advice\",\n",
        "      \"description\": \"Provide expert guidance on proper exercise form, technique, and safety precautions. Offer advice on nutrition strategies to support fitness goals, including macronutrient balance, meal timing, and hydration. Educate users on recovery techniques, such as stretching, foam rolling, and adequate sleep. Encourage users to stay consistent with their workouts, overcome challenges, and maintain a healthy lifestyle. Offer motivational messages, positive reinforcement, and strategies for building long-term habits.\"\n",
        "    },\n",
        "    {\n",
        "      \"id\": \"adapt_to_feedback\",\n",
        "      \"description\": \"Actively solicit feedback from the user on the effectiveness, difficulty, and enjoyment of the workouts. Encourage open communication and address any concerns or preferences expressed by the user.  Adjust future plans based on this feedback, taking into account individual challenges, limitations, and goals. Be flexible and willing to modify the approach to ensure the user remains engaged and motivated.\"\n",
        "    },\n",
        "    {\n",
        "      \"id\": \"answer_questions\",\n",
        "      \"description\": \"Provide clear, concise, and accurate answers to user questions related to fitness, exercise, nutrition, the workout plan, and overall health. Utilize your knowledge base and access to relevant information to address user inquiries. Offer evidence-based explanations and recommendations, while avoiding medical advice or diagnoses. Direct users to appropriate resources or professionals when necessary.\"\n",
        "    }\n",
        "  ],\n",
        "  \"personality\": {\n",
        "    \"traits\": [\n",
        "      \"enthusiastic\",\n",
        "      \"encouraging\",\n",
        "      \"knowledgeable\",\n",
        "      \"informative\",\n",
        "      \"patient\",\n",
        "      \"understanding\",\n",
        "      \"adaptive\",\n",
        "      \"flexible\",\n",
        "      \"professional\",\n",
        "      \"respectful\"\n",
        "    ],\n",
        "    \"description\": \"Maintain a positive and supportive tone, demonstrating a passion for fitness and a genuine desire to help users succeed. Be informative and evidence-based, while also being patient and understanding of individual needs. Adapt to user feedback and maintain a professional demeanor.\"\n",
        "  }\n",
        "}\"\"\"\n",
        "\n",
        "\n"
      ],
      "metadata": {
        "id": "i3TYyleJ6NtW"
      },
      "execution_count": null,
      "outputs": []
    },
    {
      "cell_type": "markdown",
      "source": [
        "### Nutrition Agent"
      ],
      "metadata": {
        "id": "4LdmkXqX6e8z"
      }
    },
    {
      "cell_type": "code",
      "source": [
        "nutrition_agent_prompt = \"\"\"{\n",
        "  \"name\": \"NutriBot\",\n",
        "  \"role\": \"You are a virtual nutritionist agent named 'NutriBot', designed to guide and support users in achieving their dietary and fitness goals. You provide personalized meal plans, offer nutritional advice, track dietary intake, and adapt recommendations based on user feedback and progress. You are knowledgeable, supportive, and encouraging, acting as a companion throughout the user's health journey. Your ultimate goal is to empower users to make sustainable and healthy dietary choices.\",\n",
        "  \"tasks\": [\n",
        "    {\n",
        "      \"id\": \"create_meal_plan\",\n",
        "      \"description\": \"Create personalized meal plans tailored to user goals (e.g., weight loss, muscle gain, improved overall health), dietary preferences, restrictions (e.g., allergies, intolerances), and lifestyle factors. The plan should include a variety of nutrient-rich foods, specifying portion sizes, meal timing, and macro/micronutrient targets. Provide clear instructions and consider factors like calorie intake, dietary balance, and food availability. Ensure the plan is safe, effective, enjoyable, and sustainable for the user. Return a json formatted plan e.g. '{\\\\\"Meal\\\\\":\\\\\"Breakfast\\\\\", \\\\\"Items\\\\\": [{\\\\\"Food\\\\\":\\\\\"Oatmeal\\\\\", \\\\\"Quantity\\\\\":\\\\\"1 cup\\\\\"}, {\\\\\"Food\\\\\":\\\\\"Berries\\\\\", \\\\\"Quantity\\\\\":\\\\\"1/2 cup\\\\\"}, {\\\\\"Food\\\\\":\\\\\"Nuts\\\\\", \\\\\"Quantity\\\\\":\\\\\"1/4 cup\\\\\"}], \\\\\"Meal\\\\\":\\\\\"Lunch\\\\\", \\\\\"Items\\\\\":[{\\\\\"Food\\\\\":\\\\\"Chicken breast\\\\\", \\\\\"Quantity\\\\\":\\\\\"4 oz\\\\\"}, {\\\\\"Food\\\\\":\\\\\"Brown rice\\\\\", \\\\\"Quantity\\\\\":\\\\\"1 cup\\\\\"}, {\\\\\"Food\\\\\":\\\\\"Vegetables\\\\\", \\\\\"Quantity\\\\\":\\\\\"1 cup\\\\\"}]}'\"\n",
        "    },\n",
        "    {\n",
        "      \"id\": \"track_diet\",\n",
        "      \"description\": \"Monitor user's dietary intake, including foods consumed, portion sizes, meal timing, and calorie/nutrient composition. Analyze this data to assess progress towards goals, identify areas for improvement, and provide feedback to the user. Track changes in weight, body composition, and other relevant health metrics over time. Use this data to inform adjustments to future meal plans and ensure continuous progress.\"\n",
        "    },\n",
        "    {\n",
        "      \"id\": \"offer_nutritional_advice\",\n",
        "      \"description\": \"Provide expert guidance on healthy eating habits, food choices, and portion control. Offer advice on specific dietary strategies to support fitness and health goals, including macronutrient balance, micronutrient intake, and hydration. Educate users on the benefits of different foods and nutrients. Encourage users to make informed dietary choices, overcome challenges, and maintain a healthy relationship with food.\"\n",
        "    },\n",
        "    {\n",
        "      \"id\": \"adapt_to_feedback\",\n",
        "      \"description\": \"Actively solicit feedback from the user on the effectiveness, feasibility, and enjoyment of the meal plans. Encourage open communication and address any concerns or preferences expressed by the user. Adjust future plans based on this feedback, taking into account individual challenges, limitations, and goals. Be flexible and willing to modify the approach to ensure the user remains engaged and motivated.\"\n",
        "    },\n",
        "    {\n",
        "      \"id\": \"answer_questions\",\n",
        "      \"description\": \"Provide clear, concise, and accurate answers to user questions related to nutrition, food choices, meal planning, dietary restrictions, and overall health. Utilize your knowledge base and access to relevant information to address user inquiries. Offer evidence-based explanations and recommendations, while avoiding medical advice or diagnoses. Direct users to appropriate resources or professionals when necessary.\"\n",
        "    }\n",
        "  ],\n",
        "  \"personality\": {\n",
        "    \"traits\": [\n",
        "      \"enthusiastic\",\n",
        "      \"encouraging\",\n",
        "      \"knowledgeable\",\n",
        "      \"informative\",\n",
        "      \"patient\",\n",
        "      \"understanding\",\n",
        "      \"adaptive\",\n",
        "      \"flexible\",\n",
        "      \"professional\",\n",
        "      \"respectful\"\n",
        "    ],\n",
        "    \"description\": \"Maintain a positive and supportive tone, demonstrating a passion for nutrition and a genuine desire to help users succeed. Be informative and evidence-based, while also being patient and understanding of individual needs. Adapt to user feedback and maintain a professional demeanor.\"\n",
        "  }\n",
        "}\"\"\""
      ],
      "metadata": {
        "id": "ASs6W9Lchiq3"
      },
      "execution_count": null,
      "outputs": []
    },
    {
      "cell_type": "markdown",
      "source": [
        "##Creating The Agent\n",
        "\n",
        "### Designing the Agent functionality\n",
        "\n",
        "1. Agent Interactions & Task Completion\n",
        "2. Agent memory for completed tasks\n",
        "3. Agent"
      ],
      "metadata": {
        "id": "ewnaFq7sOqc5"
      }
    },
    {
      "cell_type": "code",
      "source": [
        "#Base Agent Definition\n",
        "class BaseAgent():\n",
        "  def __init__(self, agent_config):\n",
        "      self.config = json.loads(agent_config)\n",
        "      self.name = self.config['name']\n",
        "      self.role = self.config['role']\n",
        "      self.tasks = self.config['tasks']\n",
        "      self.personality = self.config['personality']\n",
        "      self.llm = ChatGoogleGenerativeAI(model=llm_model_name,api_key=Gemini_api)\n",
        "      self.current_task = \"\"\n",
        "      self.memory = MemorySaver()\n",
        "      logger.info(f\"Agent Initialized with Role: {self.role} using {llm_model_name}\") # Fixed indentation\n",
        "\n",
        "  def select_task(self, task_id):\n",
        "    \"\"\"Selects the agent's task based on the provided task ID.\"\"\"\n",
        "    task_description = next((task[\"description\"] for task in self.tasks if task[\"id\"] == task_id), None)\n",
        "    if task_description:\n",
        "      # Construct the agent prompt using the configuration data\n",
        "      agent_prompt = f\"\"\"{self.role}\n",
        "\n",
        "      Your current task is:\n",
        "\n",
        "      - {task_id}: {task_description}\n",
        "\n",
        "      Maintain the following personality traits:\n",
        "\n",
        "      {', '.join(self.personality['traits'])}\n",
        "\n",
        "      {self.personality['description']}\n",
        "      \"\"\"\n",
        "      self.current_task = agent_prompt\n",
        "      logger.info(f\"Selected task for {self.name}: {task_id}\")\n",
        "    else:\n",
        "      logger.info(f\"Task ID '{task_id}' not found in configuration.\")\n",
        "\n",
        "  def generate_response(self,text):\n",
        "    full_prompt = self.current_task + text\n",
        "    response = self.llm.invoke(full_prompt)\n",
        "    return response.content"
      ],
      "metadata": {
        "id": "GOoxFw6VKSOf"
      },
      "execution_count": null,
      "outputs": []
    },
    {
      "cell_type": "code",
      "source": [
        "# Testing an agent to work\n",
        "trainer_agent = BaseAgent(trainer_agent_prompt)\n",
        "trainer_agent.select_task('create_workout_plan')\n",
        "trainer_agent.generate_response(\"\"\"How should I work out today for strength training when I am overweight?\"\"\")"
      ],
      "metadata": {
        "colab": {
          "base_uri": "https://localhost:8080/",
          "height": 204
        },
        "id": "rC-dhJd99qOQ",
        "outputId": "ebb50f27-7c85-4811-c689-8cfa348c3b49"
      },
      "execution_count": null,
      "outputs": [
        {
          "output_type": "stream",
          "name": "stderr",
          "text": [
            "INFO:root:Agent Initialized with Role: You are a virtual gym training agent named 'FitBot', designed to guide and motivate users towards their fitness goals. You act as a personal trainer, nutrition advisor, and motivational coach, providing personalized workout plans, tracking progress, offering expert advice, and adapting routines based on user feedback and performance. You are a knowledgeable, supportive, and encouraging companion throughout the user's fitness journey. Your ultimate goal is to empower users to achieve sustainable fitness and health improvements. using gemini-2.0-flash\n",
            "INFO:root:Selected task for FitBot: create_workout_plan\n"
          ]
        },
        {
          "output_type": "execute_result",
          "data": {
            "text/plain": [
              "'```json\\n{\\n  \"Workout Plan for Overweight Individuals (Strength Training)\": {\\n    \"Warm-up (5-10 minutes)\": [\\n      {\\n        \"Exercise\": \"Light Cardio\",\\n        \"Description\": \"Choose an activity like walking on a treadmill, elliptical, or cycling at a low intensity.\",\\n        \"Duration\": \"5 minutes\",\\n        \"Intensity\": \"Low (RPE 2-3/10)\"\\n      },\\n      {\\n        \"Exercise\": \"Dynamic Stretching\",\\n        \"Description\": \"Include arm circles, leg swings, torso twists, and cat-cow stretches.\",\\n        \"Duration\": \"5 minutes\",\\n        \"Instructions\": \"Perform each stretch for 30 seconds. Focus on controlled movements.\"\\n      }\\n    ],\\n    \"Workout (30-45 minutes)\": [\\n      {\\n        \"Exercise\": \"Bodyweight Squats\",\\n        \"Sets\": \"3\",\\n        \"Reps\": \"10-12\",\\n        \"Rest\": \"60 seconds\",\\n        \"Instructions\": \"Stand with feet shoulder-width apart, lower your hips as if sitting in a chair, keeping your back straight and chest up. Ensure your knees don\\'t go past your toes.\",\\n        \"Progression\": \"Increase reps or add a resistance band around your thighs.\"\\n      },\\n      {\\n        \"Exercise\": \"Push-Ups (on knees if needed)\",\\n        \"Sets\": \"3\",\\n        \"Reps\": \"As many as possible (AMRAP) with good form\",\\n        \"Rest\": \"60 seconds\",\\n        \"Instructions\": \"Start in a plank position (on knees or toes). Lower your chest towards the ground, keeping your body in a straight line. Push back up to the starting position.\",\\n        \"Progression\": \"Start on knees and progress to toes as strength improves. Aim for increasing reps each workout.\"\\n      },\\n      {\\n        \"Exercise\": \"Dumbbell Rows (or resistance band rows)\",\\n        \"Sets\": \"3\",\\n        \"Reps\": \"10-12 per side\",\\n        \"Rest\": \"60 seconds\",\\n        \"Instructions\": \"Bend at the hips, keeping your back straight. Pull the dumbbell (or resistance band) towards your chest, squeezing your shoulder blades together. Lower slowly.\",\\n        \"Progression\": \"Increase weight or resistance as strength improves.\"\\n      },\\n      {\\n        \"Exercise\": \"Overhead Press (Dumbbell or Resistance Band)\",\\n        \"Sets\": \"3\",\\n        \"Reps\": \"10-12\",\\n        \"Rest\": \"60 seconds\",\\n        \"Instructions\": \"Stand with feet shoulder-width apart, holding dumbbells (or resistance band handles) at shoulder height. Press the weight overhead, extending your arms fully. Lower slowly.\",\\n        \"Progression\": \"Increase weight or resistance as strength improves.\"\\n      },\\n      {\\n        \"Exercise\": \"Plank\",\\n        \"Sets\": \"3\",\\n        \"Duration\": \"30-60 seconds\",\\n        \"Rest\": \"60 seconds\",\\n        \"Instructions\": \"Hold a plank position, keeping your body in a straight line from head to heels (or knees). Engage your core muscles.\",\\n        \"Progression\": \"Increase hold time as strength improves.\"\\n      }\\n    ],\\n    \"Cool-down (5-10 minutes)\": [\\n      {\\n        \"Exercise\": \"Static Stretching\",\\n        \"Description\": \"Hold each stretch for 30 seconds. Focus on major muscle groups worked during the workout (e.g., quads, hamstrings, chest, back, shoulders).\",\\n        \"Examples\": \"Hamstring stretch, quad stretch, chest stretch, tricep stretch, shoulder stretch.\"\\n      }\\n    ],\\n    \"User Notes\": [\\n      \"**Listen to Your Body:** If you experience any pain, stop the exercise and consult with a healthcare professional.\",\\n      \"**Proper Form:** Focus on maintaining proper form throughout each exercise to prevent injuries.\",\\n      \"**Hydration:** Drink plenty of water before, during, and after your workout.\",\\n      \"**Nutrition:** Combine this workout plan with a balanced diet for optimal results. Focus on whole, unprocessed foods.\",\\n      \"**Consistency:** Aim to perform this workout 2-3 times per week, with rest days in between.\",\\n      \"**Progression:** Gradually increase the intensity, duration, or resistance of your workouts as you get stronger.\",\\n      \"**Cardio:** Incorporate regular cardiovascular exercise (e.g., walking, jogging, swimming) on non-strength training days.\",\\n      \"**Rest and Recovery:** Get adequate sleep (7-9 hours) to allow your body to recover and rebuild muscle.\",\\n      \"**Modifications:** Don\\'t hesitate to modify exercises as needed to accommodate your fitness level and any physical limitations.  For example, incline push-ups are easier than standard push-ups.\",\\n      \"**Celebrate Small Wins:** Acknowledge and celebrate your progress along the way to stay motivated.\"\\n    ]\\n  }\\n}\\n```'"
            ],
            "application/vnd.google.colaboratory.intrinsic+json": {
              "type": "string"
            }
          },
          "metadata": {},
          "execution_count": 55
        }
      ]
    }
  ]
}